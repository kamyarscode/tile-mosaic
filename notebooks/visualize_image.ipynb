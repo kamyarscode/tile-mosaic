{
 "cells": [
  {
   "cell_type": "code",
   "execution_count": 38,
   "metadata": {},
   "outputs": [
    {
     "name": "stdout",
     "output_type": "stream",
     "text": [
      "Image successfully opened: ../img_src/moon.jpg\n",
      "<PIL.Image.Image image mode=RGB size=743x360 at 0x21A09791D10>\n"
     ]
    },
    {
     "ename": "AttributeError",
     "evalue": "'NoneType' object has no attribute 'show'",
     "output_type": "error",
     "traceback": [
      "\u001b[1;31m---------------------------------------------------------------------------\u001b[0m",
      "\u001b[1;31mAttributeError\u001b[0m                            Traceback (most recent call last)",
      "Cell \u001b[1;32mIn[38], line 10\u001b[0m\n\u001b[0;32m      6\u001b[0m \u001b[38;5;28mprint\u001b[39m (base_img)\n\u001b[0;32m      8\u001b[0m output_image \u001b[38;5;241m=\u001b[39m voronoi_mosaic(base_img, num_points\u001b[38;5;241m=\u001b[39m\u001b[38;5;241m200\u001b[39m, line_thickness\u001b[38;5;241m=\u001b[39m\u001b[38;5;241m2\u001b[39m)\n\u001b[1;32m---> 10\u001b[0m \u001b[43moutput_image\u001b[49m\u001b[38;5;241;43m.\u001b[39;49m\u001b[43mshow\u001b[49m()\n",
      "\u001b[1;31mAttributeError\u001b[0m: 'NoneType' object has no attribute 'show'"
     ]
    }
   ],
   "source": [
    "from image_parser import open_image\n",
    "from tiles import voronoi_mosaic\n",
    "\n",
    "img = open_image(\"../img_src/moon.jpg\")\n",
    "base_img = img.convert(\"RGB\")\n",
    "print (base_img)\n",
    "\n",
    "output_image = voronoi_mosaic(base_img, num_points=200, line_thickness=2)\n",
    "\n",
    "output_image.show()\n"
   ]
  },
  {
   "cell_type": "code",
   "execution_count": null,
   "metadata": {},
   "outputs": [],
   "source": []
  }
 ],
 "metadata": {
  "kernelspec": {
   "display_name": "tile",
   "language": "python",
   "name": "python3"
  },
  "language_info": {
   "codemirror_mode": {
    "name": "ipython",
    "version": 3
   },
   "file_extension": ".py",
   "mimetype": "text/x-python",
   "name": "python",
   "nbconvert_exporter": "python",
   "pygments_lexer": "ipython3",
   "version": "3.11.5"
  }
 },
 "nbformat": 4,
 "nbformat_minor": 2
}
